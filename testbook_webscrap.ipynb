{
 "cells": [
  {
   "cell_type": "code",
   "execution_count": 23,
   "metadata": {},
   "outputs": [],
   "source": [
    "from selenium import webdriver\n",
    "import chromedriver_binary\n",
    "import requests\n",
    "import pandas as pd\n",
    "from tqdm import tqdm\n",
    "from bs4 import BeautifulSoup\n",
    "import numpy"
   ]
  },
  {
   "cell_type": "code",
   "execution_count": 24,
   "metadata": {},
   "outputs": [
    {
     "name": "stderr",
     "output_type": "stream",
     "text": [
      "C:\\Users\\ankit singh\\AppData\\Local\\Temp\\ipykernel_4336\\4215224003.py:1: DeprecationWarning: executable_path has been deprecated, please pass in a Service object\n",
      "  browser=webdriver.Chrome('chromedriver_binary.chromedriver_filename')\n"
     ]
    }
   ],
   "source": [
    "browser=webdriver.Chrome('chromedriver_binary.chromedriver_filename')"
   ]
  },
  {
   "cell_type": "code",
   "execution_count": 25,
   "metadata": {},
   "outputs": [],
   "source": [
    "browser.get(\"https://testbook.com/ssc-mts\")"
   ]
  },
  {
   "cell_type": "code",
   "execution_count": 40,
   "metadata": {},
   "outputs": [],
   "source": [
    "sopu=BeautifulSoup(browser.page_source,\"html.parser\")"
   ]
  },
  {
   "cell_type": "code",
   "execution_count": 41,
   "metadata": {},
   "outputs": [],
   "source": [
    "sp=sopu.find(\"target-page-content\")"
   ]
  },
  {
   "cell_type": "code",
   "execution_count": 28,
   "metadata": {},
   "outputs": [],
   "source": [
    "page=sp.text.strip()"
   ]
  },
  {
   "cell_type": "code",
   "execution_count": null,
   "metadata": {},
   "outputs": [],
   "source": [
    "print(page)"
   ]
  },
  {
   "cell_type": "code",
   "execution_count": 13,
   "metadata": {},
   "outputs": [],
   "source": [
    "fd=open('exam_info.text','w',encoding='utf-8')\n",
    "fd.write(page)\n",
    "fd.close()"
   ]
  },
  {
   "cell_type": "code",
   "execution_count": 18,
   "metadata": {},
   "outputs": [],
   "source": [
    "sp2=sopu.find(\"div\",class_=\"grid--small wrapper\").text.strip()"
   ]
  },
  {
   "cell_type": "code",
   "execution_count": 19,
   "metadata": {},
   "outputs": [
    {
     "data": {
      "text/plain": [
       "'Latest SSC MTS Updates Last updated: Feb 13, 2023SSC MTS 2021 Paper II Marks will be available from 7th to 20th March 2023. SSC MTS 2022 Last Date Extended and\\xa0candidates can now apply till 24th Feb 2023 & this is also the closing day for eligibility consideration. The application fee\\xa0payment can be done online & offline by 26th and 27th Feb 2023 respectively. Applications can be corrected from 2nd March to 3rd March 2023.\\xa0SSC MTS 2021 Paper II Results & Cut-Off has been released on 13th Feb 2023.\\xa0Selected candidates will be eligible for the DV Round. SSC MTS 2021 Final vacancies have been released.\\xa0SSC MTS 2022\\xa0vacancies increased to 11,994. The exam will be held in the month of April 2023.\\xa0\\xa0Selection of the candidates for the post of SSC MTS is based on Computer Based Examination. As per the new notification, the SSC MTS Exam Pattern has been changed by the commission. Now the exam will be held for 270 marks instead of 100 marks. Candidates must attempt the SSC MTS Mock tests for comprehensive preparation. The SSC MTS Previous year papers should also be considered during preparation.'"
      ]
     },
     "execution_count": 19,
     "metadata": {},
     "output_type": "execute_result"
    }
   ],
   "source": [
    "sp2"
   ]
  },
  {
   "cell_type": "code",
   "execution_count": 21,
   "metadata": {},
   "outputs": [],
   "source": [
    "fd=open('exam_update','w',encoding='utf-8')\n",
    "fd.write(sp2)\n",
    "fd.close()"
   ]
  },
  {
   "cell_type": "code",
   "execution_count": 79,
   "metadata": {},
   "outputs": [],
   "source": [
    "free=sopu.find_all(\"div\",class_=\"h4\")"
   ]
  },
  {
   "cell_type": "code",
   "execution_count": 80,
   "metadata": {},
   "outputs": [
    {
     "name": "stdout",
     "output_type": "stream",
     "text": [
      "SSC MTS Mini Full Test 1 \n",
      "CT : GK (Ancient History) 2\n",
      "PYST 1: SSC MTS - Reasoning (Held on: 26 July 2022 Shift 1) \n",
      "SSC MTS Full Mock Test 2\n",
      "CT : English (One word Substitution) 1\n"
     ]
    }
   ],
   "source": [
    "Free_Test=[]\n",
    "j=0\n",
    "for i in free:\n",
    "\n",
    "    print(i.text[:-11])\n",
    "    Free_Test.append(i.text)\n",
    "\n",
    "    j+=1\n",
    "    if j==5:\n",
    "        break"
   ]
  },
  {
   "cell_type": "code",
   "execution_count": 81,
   "metadata": {},
   "outputs": [],
   "source": [
    "sp4=sopu.find(\"div\",class_=\"card-grid\")"
   ]
  },
  {
   "cell_type": "code",
   "execution_count": 82,
   "metadata": {},
   "outputs": [],
   "source": [
    "sp5=sopu.find_all(\"div\",class_=\"card__name\")"
   ]
  },
  {
   "cell_type": "code",
   "execution_count": 83,
   "metadata": {},
   "outputs": [
    {
     "data": {
      "text/plain": [
       "' SSC MTS and Havaldar Mock Test 2022-23'"
      ]
     },
     "execution_count": 83,
     "metadata": {},
     "output_type": "execute_result"
    }
   ],
   "source": [
    "sp5[0].text[:-18]"
   ]
  },
  {
   "cell_type": "code",
   "execution_count": 84,
   "metadata": {},
   "outputs": [],
   "source": [
    "paid_test=[]\n",
    "for i in sp5:\n",
    "    paid_test.append(i.text[:-18])\n",
    "    \n",
    "\n",
    "\n"
   ]
  },
  {
   "cell_type": "code",
   "execution_count": 85,
   "metadata": {},
   "outputs": [
    {
     "data": {
      "text/plain": [
       "[' SSC MTS and Havaldar Mock Test 2022-23',\n",
       " ' SSC MTS Moc',\n",
       " ' Current Affairs 2023 Mega Pack SSC/State/Railwa',\n",
       " ' SSC English Previous Year Questions',\n",
       " ' SSC Reasoning Previous Year Questions Mock Test Series',\n",
       " ' SSC Maths Previous Year Questions Mock Test Series']"
      ]
     },
     "execution_count": 85,
     "metadata": {},
     "output_type": "execute_result"
    }
   ],
   "source": [
    "paid_test"
   ]
  },
  {
   "cell_type": "code",
   "execution_count": 86,
   "metadata": {},
   "outputs": [],
   "source": [
    "sp6=sopu.find_all(\"div\",class_=\"card__title\")"
   ]
  },
  {
   "cell_type": "code",
   "execution_count": 87,
   "metadata": {},
   "outputs": [],
   "source": [
    "quizzes=[]\n",
    "for i in sp6:\n",
    "    quizzes.append(i.text)"
   ]
  },
  {
   "cell_type": "code",
   "execution_count": 88,
   "metadata": {},
   "outputs": [
    {
     "data": {
      "text/plain": [
       "[' Daily Current Affairs Quiz: 01 March 2023 ',\n",
       " ' Daily Current Affairs Quiz: 28 February 2023 ',\n",
       " ' Daily Current Affairs Quiz: 02 March 2023 ',\n",
       " ' Daily Current Affairs Quiz: 27 February 2023 ',\n",
       " ' SSC MTS: General Awareness - Deciding Quiz ']"
      ]
     },
     "execution_count": 88,
     "metadata": {},
     "output_type": "execute_result"
    }
   ],
   "source": [
    "quizzes"
   ]
  },
  {
   "cell_type": "code",
   "execution_count": 89,
   "metadata": {},
   "outputs": [],
   "source": [
    "data=[]\n",
    "data.append([Free_Test,paid_test,quizzes])\n",
    "pf=pd.DataFrame(data,columns=[\"Free_Test\",\"paid_test\",\"quizzes\"])"
   ]
  },
  {
   "cell_type": "code",
   "execution_count": 92,
   "metadata": {},
   "outputs": [
    {
     "data": {
      "text/html": [
       "<div>\n",
       "<style scoped>\n",
       "    .dataframe tbody tr th:only-of-type {\n",
       "        vertical-align: middle;\n",
       "    }\n",
       "\n",
       "    .dataframe tbody tr th {\n",
       "        vertical-align: top;\n",
       "    }\n",
       "\n",
       "    .dataframe thead th {\n",
       "        text-align: right;\n",
       "    }\n",
       "</style>\n",
       "<table border=\"1\" class=\"dataframe\">\n",
       "  <thead>\n",
       "    <tr style=\"text-align: right;\">\n",
       "      <th></th>\n",
       "      <th>Free_Test</th>\n",
       "      <th>paid_test</th>\n",
       "      <th>quizzes</th>\n",
       "    </tr>\n",
       "  </thead>\n",
       "  <tbody>\n",
       "    <tr>\n",
       "      <th>0</th>\n",
       "      <td>[SSC MTS Mini Full Test 1 73.7k Users, CT : GK...</td>\n",
       "      <td>[ SSC MTS and Havaldar Mock Test 2022-23,  SSC...</td>\n",
       "      <td>[ Daily Current Affairs Quiz: 01 March 2023 , ...</td>\n",
       "    </tr>\n",
       "  </tbody>\n",
       "</table>\n",
       "</div>"
      ],
      "text/plain": [
       "                                           Free_Test  \\\n",
       "0  [SSC MTS Mini Full Test 1 73.7k Users, CT : GK...   \n",
       "\n",
       "                                           paid_test  \\\n",
       "0  [ SSC MTS and Havaldar Mock Test 2022-23,  SSC...   \n",
       "\n",
       "                                             quizzes  \n",
       "0  [ Daily Current Affairs Quiz: 01 March 2023 , ...  "
      ]
     },
     "execution_count": 92,
     "metadata": {},
     "output_type": "execute_result"
    }
   ],
   "source": [
    "pf"
   ]
  },
  {
   "cell_type": "code",
   "execution_count": null,
   "metadata": {},
   "outputs": [],
   "source": [
    "pf.to_csv(\"data_tet.csv\",index=False)"
   ]
  }
 ],
 "metadata": {
  "kernelspec": {
   "display_name": "Python 3",
   "language": "python",
   "name": "python3"
  },
  "language_info": {
   "codemirror_mode": {
    "name": "ipython",
    "version": 3
   },
   "file_extension": ".py",
   "mimetype": "text/x-python",
   "name": "python",
   "nbconvert_exporter": "python",
   "pygments_lexer": "ipython3",
   "version": "3.10.6"
  },
  "orig_nbformat": 4
 },
 "nbformat": 4,
 "nbformat_minor": 2
}
